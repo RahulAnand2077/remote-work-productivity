{
 "cells": [
  {
   "cell_type": "markdown",
   "id": "a55ad3d6",
   "metadata": {},
   "source": [
    "Predict productive vs unproductive work-from-home days using features like meeting count, break frequency, and workspace setup. Use Decision Trees to identify factors that boost remote work effectiveness."
   ]
  },
  {
   "cell_type": "code",
   "execution_count": 52,
   "id": "e2745213",
   "metadata": {},
   "outputs": [],
   "source": [
    "import pandas as pd\n",
    "from sklearn.model_selection import train_test_split\n",
    "from sklearn.tree import DecisionTreeClassifier, plot_tree\n",
    "import matplotlib.pyplot as plt"
   ]
  },
  {
   "cell_type": "code",
   "execution_count": 53,
   "id": "be120e71",
   "metadata": {},
   "outputs": [
    {
     "data": {
      "application/vnd.microsoft.datawrangler.viewer.v0+json": {
       "columns": [
        {
         "name": "index",
         "rawType": "int64",
         "type": "integer"
        },
        {
         "name": "Employee_ID",
         "rawType": "int64",
         "type": "integer"
        },
        {
         "name": "Employment_Type",
         "rawType": "object",
         "type": "string"
        },
        {
         "name": "Hours_Worked_Per_Week",
         "rawType": "int64",
         "type": "integer"
        },
        {
         "name": "Productivity_Score",
         "rawType": "int64",
         "type": "integer"
        },
        {
         "name": "Well_Being_Score",
         "rawType": "int64",
         "type": "integer"
        }
       ],
       "ref": "4a087c06-fd2c-4e87-bb29-15c23f9d3c7f",
       "rows": [
        [
         "0",
         "1",
         "Remote",
         "29",
         "75",
         "78"
        ],
        [
         "1",
         "2",
         "In-Office",
         "45",
         "49",
         "47"
        ],
        [
         "2",
         "3",
         "Remote",
         "34",
         "74",
         "89"
        ],
        [
         "3",
         "4",
         "Remote",
         "25",
         "81",
         "84"
        ],
        [
         "4",
         "5",
         "Remote",
         "50",
         "70",
         "74"
        ],
        [
         "5",
         "6",
         "In-Office",
         "48",
         "66",
         "58"
        ],
        [
         "6",
         "7",
         "Remote",
         "38",
         "44",
         "76"
        ],
        [
         "7",
         "8",
         "Remote",
         "35",
         "72",
         "90"
        ],
        [
         "8",
         "9",
         "Remote",
         "30",
         "70",
         "89"
        ],
        [
         "9",
         "10",
         "In-Office",
         "40",
         "59",
         "57"
        ],
        [
         "10",
         "11",
         "Remote",
         "40",
         "77",
         "57"
        ],
        [
         "11",
         "12",
         "Remote",
         "31",
         "67",
         "69"
        ],
        [
         "12",
         "13",
         "Remote",
         "37",
         "80",
         "52"
        ],
        [
         "13",
         "14",
         "Remote",
         "42",
         "78",
         "83"
        ],
        [
         "14",
         "15",
         "In-Office",
         "47",
         "76",
         "66"
        ],
        [
         "15",
         "16",
         "Remote",
         "44",
         "81",
         "69"
        ],
        [
         "16",
         "17",
         "In-Office",
         "58",
         "73",
         "68"
        ],
        [
         "17",
         "18",
         "In-Office",
         "37",
         "52",
         "64"
        ],
        [
         "18",
         "19",
         "In-Office",
         "45",
         "58",
         "62"
        ],
        [
         "19",
         "20",
         "Remote",
         "46",
         "83",
         "58"
        ],
        [
         "20",
         "21",
         "In-Office",
         "44",
         "56",
         "54"
        ],
        [
         "21",
         "22",
         "Remote",
         "32",
         "69",
         "57"
        ],
        [
         "22",
         "23",
         "In-Office",
         "44",
         "59",
         "16"
        ],
        [
         "23",
         "24",
         "In-Office",
         "57",
         "75",
         "54"
        ],
        [
         "24",
         "25",
         "In-Office",
         "45",
         "53",
         "85"
        ],
        [
         "25",
         "26",
         "In-Office",
         "56",
         "66",
         "75"
        ],
        [
         "26",
         "27",
         "In-Office",
         "46",
         "51",
         "53"
        ],
        [
         "27",
         "28",
         "In-Office",
         "45",
         "60",
         "56"
        ],
        [
         "28",
         "29",
         "In-Office",
         "44",
         "64",
         "60"
        ],
        [
         "29",
         "30",
         "In-Office",
         "38",
         "57",
         "40"
        ],
        [
         "30",
         "31",
         "Remote",
         "41",
         "49",
         "81"
        ],
        [
         "31",
         "32",
         "Remote",
         "44",
         "71",
         "43"
        ],
        [
         "32",
         "33",
         "In-Office",
         "42",
         "64",
         "44"
        ],
        [
         "33",
         "34",
         "In-Office",
         "41",
         "80",
         "69"
        ],
        [
         "34",
         "35",
         "In-Office",
         "39",
         "49",
         "55"
        ],
        [
         "35",
         "36",
         "Remote",
         "33",
         "80",
         "64"
        ],
        [
         "36",
         "37",
         "In-Office",
         "48",
         "84",
         "72"
        ],
        [
         "37",
         "38",
         "Remote",
         "34",
         "72",
         "66"
        ],
        [
         "38",
         "39",
         "Remote",
         "43",
         "67",
         "70"
        ],
        [
         "39",
         "40",
         "Remote",
         "35",
         "68",
         "56"
        ],
        [
         "40",
         "41",
         "Remote",
         "37",
         "74",
         "75"
        ],
        [
         "41",
         "42",
         "Remote",
         "31",
         "89",
         "61"
        ],
        [
         "42",
         "43",
         "In-Office",
         "55",
         "47",
         "66"
        ],
        [
         "43",
         "44",
         "In-Office",
         "47",
         "57",
         "66"
        ],
        [
         "44",
         "45",
         "In-Office",
         "52",
         "42",
         "67"
        ],
        [
         "45",
         "46",
         "In-Office",
         "30",
         "55",
         "84"
        ],
        [
         "46",
         "47",
         "In-Office",
         "41",
         "53",
         "57"
        ],
        [
         "47",
         "48",
         "Remote",
         "49",
         "53",
         "59"
        ],
        [
         "48",
         "49",
         "In-Office",
         "53",
         "83",
         "58"
        ],
        [
         "49",
         "50",
         "In-Office",
         "37",
         "85",
         "83"
        ]
       ],
       "shape": {
        "columns": 5,
        "rows": 1000
       }
      },
      "text/html": [
       "<div>\n",
       "<style scoped>\n",
       "    .dataframe tbody tr th:only-of-type {\n",
       "        vertical-align: middle;\n",
       "    }\n",
       "\n",
       "    .dataframe tbody tr th {\n",
       "        vertical-align: top;\n",
       "    }\n",
       "\n",
       "    .dataframe thead th {\n",
       "        text-align: right;\n",
       "    }\n",
       "</style>\n",
       "<table border=\"1\" class=\"dataframe\">\n",
       "  <thead>\n",
       "    <tr style=\"text-align: right;\">\n",
       "      <th></th>\n",
       "      <th>Employee_ID</th>\n",
       "      <th>Employment_Type</th>\n",
       "      <th>Hours_Worked_Per_Week</th>\n",
       "      <th>Productivity_Score</th>\n",
       "      <th>Well_Being_Score</th>\n",
       "    </tr>\n",
       "  </thead>\n",
       "  <tbody>\n",
       "    <tr>\n",
       "      <th>0</th>\n",
       "      <td>1</td>\n",
       "      <td>Remote</td>\n",
       "      <td>29</td>\n",
       "      <td>75</td>\n",
       "      <td>78</td>\n",
       "    </tr>\n",
       "    <tr>\n",
       "      <th>1</th>\n",
       "      <td>2</td>\n",
       "      <td>In-Office</td>\n",
       "      <td>45</td>\n",
       "      <td>49</td>\n",
       "      <td>47</td>\n",
       "    </tr>\n",
       "    <tr>\n",
       "      <th>2</th>\n",
       "      <td>3</td>\n",
       "      <td>Remote</td>\n",
       "      <td>34</td>\n",
       "      <td>74</td>\n",
       "      <td>89</td>\n",
       "    </tr>\n",
       "    <tr>\n",
       "      <th>3</th>\n",
       "      <td>4</td>\n",
       "      <td>Remote</td>\n",
       "      <td>25</td>\n",
       "      <td>81</td>\n",
       "      <td>84</td>\n",
       "    </tr>\n",
       "    <tr>\n",
       "      <th>4</th>\n",
       "      <td>5</td>\n",
       "      <td>Remote</td>\n",
       "      <td>50</td>\n",
       "      <td>70</td>\n",
       "      <td>74</td>\n",
       "    </tr>\n",
       "    <tr>\n",
       "      <th>...</th>\n",
       "      <td>...</td>\n",
       "      <td>...</td>\n",
       "      <td>...</td>\n",
       "      <td>...</td>\n",
       "      <td>...</td>\n",
       "    </tr>\n",
       "    <tr>\n",
       "      <th>995</th>\n",
       "      <td>996</td>\n",
       "      <td>Remote</td>\n",
       "      <td>33</td>\n",
       "      <td>88</td>\n",
       "      <td>82</td>\n",
       "    </tr>\n",
       "    <tr>\n",
       "      <th>996</th>\n",
       "      <td>997</td>\n",
       "      <td>Remote</td>\n",
       "      <td>33</td>\n",
       "      <td>88</td>\n",
       "      <td>73</td>\n",
       "    </tr>\n",
       "    <tr>\n",
       "      <th>997</th>\n",
       "      <td>998</td>\n",
       "      <td>In-Office</td>\n",
       "      <td>45</td>\n",
       "      <td>74</td>\n",
       "      <td>61</td>\n",
       "    </tr>\n",
       "    <tr>\n",
       "      <th>998</th>\n",
       "      <td>999</td>\n",
       "      <td>In-Office</td>\n",
       "      <td>57</td>\n",
       "      <td>50</td>\n",
       "      <td>52</td>\n",
       "    </tr>\n",
       "    <tr>\n",
       "      <th>999</th>\n",
       "      <td>1000</td>\n",
       "      <td>Remote</td>\n",
       "      <td>34</td>\n",
       "      <td>80</td>\n",
       "      <td>82</td>\n",
       "    </tr>\n",
       "  </tbody>\n",
       "</table>\n",
       "<p>1000 rows × 5 columns</p>\n",
       "</div>"
      ],
      "text/plain": [
       "     Employee_ID Employment_Type  Hours_Worked_Per_Week  Productivity_Score  \\\n",
       "0              1          Remote                     29                  75   \n",
       "1              2       In-Office                     45                  49   \n",
       "2              3          Remote                     34                  74   \n",
       "3              4          Remote                     25                  81   \n",
       "4              5          Remote                     50                  70   \n",
       "..           ...             ...                    ...                 ...   \n",
       "995          996          Remote                     33                  88   \n",
       "996          997          Remote                     33                  88   \n",
       "997          998       In-Office                     45                  74   \n",
       "998          999       In-Office                     57                  50   \n",
       "999         1000          Remote                     34                  80   \n",
       "\n",
       "     Well_Being_Score  \n",
       "0                  78  \n",
       "1                  47  \n",
       "2                  89  \n",
       "3                  84  \n",
       "4                  74  \n",
       "..                ...  \n",
       "995                82  \n",
       "996                73  \n",
       "997                61  \n",
       "998                52  \n",
       "999                82  \n",
       "\n",
       "[1000 rows x 5 columns]"
      ]
     },
     "execution_count": 53,
     "metadata": {},
     "output_type": "execute_result"
    }
   ],
   "source": [
    "df = pd.read_csv('remote_work_productivity.csv')\n",
    "df\n"
   ]
  },
  {
   "cell_type": "code",
   "execution_count": 54,
   "id": "976a5000",
   "metadata": {},
   "outputs": [
    {
     "data": {
      "application/vnd.microsoft.datawrangler.viewer.v0+json": {
       "columns": [
        {
         "name": "index",
         "rawType": "int64",
         "type": "integer"
        },
        {
         "name": "Employee_ID",
         "rawType": "int64",
         "type": "integer"
        },
        {
         "name": "Hours_Worked_Per_Week",
         "rawType": "int64",
         "type": "integer"
        },
        {
         "name": "Productivity_Score",
         "rawType": "int64",
         "type": "integer"
        },
        {
         "name": "Well_Being_Score",
         "rawType": "int64",
         "type": "integer"
        },
        {
         "name": "Productive",
         "rawType": "int64",
         "type": "integer"
        },
        {
         "name": "Employment_Type_Remote",
         "rawType": "bool",
         "type": "boolean"
        },
        {
         "name": "Overwork_Flag",
         "rawType": "int64",
         "type": "integer"
        },
        {
         "name": "Balance_Ratio",
         "rawType": "float64",
         "type": "float"
        },
        {
         "name": "Hours_WellBeing_Interaction",
         "rawType": "int64",
         "type": "integer"
        }
       ],
       "ref": "566bd3a2-2195-4627-8bcd-56f95b5d6acb",
       "rows": [
        [
         "0",
         "1",
         "29",
         "75",
         "78",
         "1",
         "True",
         "0",
         "2.6",
         "2262"
        ],
        [
         "1",
         "2",
         "45",
         "49",
         "47",
         "0",
         "False",
         "1",
         "1.0217391304347827",
         "2115"
        ],
        [
         "2",
         "3",
         "34",
         "74",
         "89",
         "1",
         "True",
         "0",
         "2.5428571428571427",
         "3026"
        ],
        [
         "3",
         "4",
         "25",
         "81",
         "84",
         "1",
         "True",
         "0",
         "3.230769230769231",
         "2100"
        ],
        [
         "4",
         "5",
         "50",
         "70",
         "74",
         "0",
         "True",
         "1",
         "1.4509803921568627",
         "3700"
        ],
        [
         "5",
         "6",
         "48",
         "66",
         "58",
         "0",
         "False",
         "1",
         "1.183673469387755",
         "2784"
        ],
        [
         "6",
         "7",
         "38",
         "44",
         "76",
         "0",
         "True",
         "0",
         "1.9487179487179487",
         "2888"
        ],
        [
         "7",
         "8",
         "35",
         "72",
         "90",
         "1",
         "True",
         "0",
         "2.5",
         "3150"
        ],
        [
         "8",
         "9",
         "30",
         "70",
         "89",
         "0",
         "True",
         "0",
         "2.870967741935484",
         "2670"
        ],
        [
         "9",
         "10",
         "40",
         "59",
         "57",
         "0",
         "False",
         "0",
         "1.3902439024390243",
         "2280"
        ],
        [
         "10",
         "11",
         "40",
         "77",
         "57",
         "1",
         "True",
         "0",
         "1.3902439024390243",
         "2280"
        ],
        [
         "11",
         "12",
         "31",
         "67",
         "69",
         "0",
         "True",
         "0",
         "2.15625",
         "2139"
        ],
        [
         "12",
         "13",
         "37",
         "80",
         "52",
         "1",
         "True",
         "0",
         "1.368421052631579",
         "1924"
        ],
        [
         "13",
         "14",
         "42",
         "78",
         "83",
         "1",
         "True",
         "1",
         "1.930232558139535",
         "3486"
        ],
        [
         "14",
         "15",
         "47",
         "76",
         "66",
         "1",
         "False",
         "1",
         "1.375",
         "3102"
        ],
        [
         "15",
         "16",
         "44",
         "81",
         "69",
         "1",
         "True",
         "1",
         "1.5333333333333334",
         "3036"
        ],
        [
         "16",
         "17",
         "58",
         "73",
         "68",
         "1",
         "False",
         "1",
         "1.152542372881356",
         "3944"
        ],
        [
         "17",
         "18",
         "37",
         "52",
         "64",
         "0",
         "False",
         "0",
         "1.6842105263157894",
         "2368"
        ],
        [
         "18",
         "19",
         "45",
         "58",
         "62",
         "0",
         "False",
         "1",
         "1.3478260869565217",
         "2790"
        ],
        [
         "19",
         "20",
         "46",
         "83",
         "58",
         "1",
         "True",
         "1",
         "1.2340425531914894",
         "2668"
        ],
        [
         "20",
         "21",
         "44",
         "56",
         "54",
         "0",
         "False",
         "1",
         "1.2",
         "2376"
        ],
        [
         "21",
         "22",
         "32",
         "69",
         "57",
         "0",
         "True",
         "0",
         "1.7272727272727273",
         "1824"
        ],
        [
         "22",
         "23",
         "44",
         "59",
         "16",
         "0",
         "False",
         "1",
         "0.35555555555555557",
         "704"
        ],
        [
         "23",
         "24",
         "57",
         "75",
         "54",
         "1",
         "False",
         "1",
         "0.9310344827586207",
         "3078"
        ],
        [
         "24",
         "25",
         "45",
         "53",
         "85",
         "0",
         "False",
         "1",
         "1.8478260869565217",
         "3825"
        ],
        [
         "25",
         "26",
         "56",
         "66",
         "75",
         "0",
         "False",
         "1",
         "1.3157894736842106",
         "4200"
        ],
        [
         "26",
         "27",
         "46",
         "51",
         "53",
         "0",
         "False",
         "1",
         "1.127659574468085",
         "2438"
        ],
        [
         "27",
         "28",
         "45",
         "60",
         "56",
         "0",
         "False",
         "1",
         "1.2173913043478262",
         "2520"
        ],
        [
         "28",
         "29",
         "44",
         "64",
         "60",
         "0",
         "False",
         "1",
         "1.3333333333333333",
         "2640"
        ],
        [
         "29",
         "30",
         "38",
         "57",
         "40",
         "0",
         "False",
         "0",
         "1.0256410256410255",
         "1520"
        ],
        [
         "30",
         "31",
         "41",
         "49",
         "81",
         "0",
         "True",
         "1",
         "1.9285714285714286",
         "3321"
        ],
        [
         "31",
         "32",
         "44",
         "71",
         "43",
         "1",
         "True",
         "1",
         "0.9555555555555556",
         "1892"
        ],
        [
         "32",
         "33",
         "42",
         "64",
         "44",
         "0",
         "False",
         "1",
         "1.0232558139534884",
         "1848"
        ],
        [
         "33",
         "34",
         "41",
         "80",
         "69",
         "1",
         "False",
         "1",
         "1.6428571428571428",
         "2829"
        ],
        [
         "34",
         "35",
         "39",
         "49",
         "55",
         "0",
         "False",
         "0",
         "1.375",
         "2145"
        ],
        [
         "35",
         "36",
         "33",
         "80",
         "64",
         "1",
         "True",
         "0",
         "1.8823529411764706",
         "2112"
        ],
        [
         "36",
         "37",
         "48",
         "84",
         "72",
         "1",
         "False",
         "1",
         "1.469387755102041",
         "3456"
        ],
        [
         "37",
         "38",
         "34",
         "72",
         "66",
         "1",
         "True",
         "0",
         "1.8857142857142857",
         "2244"
        ],
        [
         "38",
         "39",
         "43",
         "67",
         "70",
         "0",
         "True",
         "1",
         "1.5909090909090908",
         "3010"
        ],
        [
         "39",
         "40",
         "35",
         "68",
         "56",
         "0",
         "True",
         "0",
         "1.5555555555555556",
         "1960"
        ],
        [
         "40",
         "41",
         "37",
         "74",
         "75",
         "1",
         "True",
         "0",
         "1.9736842105263157",
         "2775"
        ],
        [
         "41",
         "42",
         "31",
         "89",
         "61",
         "1",
         "True",
         "0",
         "1.90625",
         "1891"
        ],
        [
         "42",
         "43",
         "55",
         "47",
         "66",
         "0",
         "False",
         "1",
         "1.1785714285714286",
         "3630"
        ],
        [
         "43",
         "44",
         "47",
         "57",
         "66",
         "0",
         "False",
         "1",
         "1.375",
         "3102"
        ],
        [
         "44",
         "45",
         "52",
         "42",
         "67",
         "0",
         "False",
         "1",
         "1.2641509433962264",
         "3484"
        ],
        [
         "45",
         "46",
         "30",
         "55",
         "84",
         "0",
         "False",
         "0",
         "2.7096774193548385",
         "2520"
        ],
        [
         "46",
         "47",
         "41",
         "53",
         "57",
         "0",
         "False",
         "1",
         "1.3571428571428572",
         "2337"
        ],
        [
         "47",
         "48",
         "49",
         "53",
         "59",
         "0",
         "True",
         "1",
         "1.18",
         "2891"
        ],
        [
         "48",
         "49",
         "53",
         "83",
         "58",
         "1",
         "False",
         "1",
         "1.0740740740740742",
         "3074"
        ],
        [
         "49",
         "50",
         "37",
         "85",
         "83",
         "1",
         "False",
         "0",
         "2.1842105263157894",
         "3071"
        ]
       ],
       "shape": {
        "columns": 9,
        "rows": 1000
       }
      },
      "text/html": [
       "<div>\n",
       "<style scoped>\n",
       "    .dataframe tbody tr th:only-of-type {\n",
       "        vertical-align: middle;\n",
       "    }\n",
       "\n",
       "    .dataframe tbody tr th {\n",
       "        vertical-align: top;\n",
       "    }\n",
       "\n",
       "    .dataframe thead th {\n",
       "        text-align: right;\n",
       "    }\n",
       "</style>\n",
       "<table border=\"1\" class=\"dataframe\">\n",
       "  <thead>\n",
       "    <tr style=\"text-align: right;\">\n",
       "      <th></th>\n",
       "      <th>Employee_ID</th>\n",
       "      <th>Hours_Worked_Per_Week</th>\n",
       "      <th>Productivity_Score</th>\n",
       "      <th>Well_Being_Score</th>\n",
       "      <th>Productive</th>\n",
       "      <th>Employment_Type_Remote</th>\n",
       "      <th>Overwork_Flag</th>\n",
       "      <th>Balance_Ratio</th>\n",
       "      <th>Hours_WellBeing_Interaction</th>\n",
       "    </tr>\n",
       "  </thead>\n",
       "  <tbody>\n",
       "    <tr>\n",
       "      <th>0</th>\n",
       "      <td>1</td>\n",
       "      <td>29</td>\n",
       "      <td>75</td>\n",
       "      <td>78</td>\n",
       "      <td>1</td>\n",
       "      <td>True</td>\n",
       "      <td>0</td>\n",
       "      <td>2.600000</td>\n",
       "      <td>2262</td>\n",
       "    </tr>\n",
       "    <tr>\n",
       "      <th>1</th>\n",
       "      <td>2</td>\n",
       "      <td>45</td>\n",
       "      <td>49</td>\n",
       "      <td>47</td>\n",
       "      <td>0</td>\n",
       "      <td>False</td>\n",
       "      <td>1</td>\n",
       "      <td>1.021739</td>\n",
       "      <td>2115</td>\n",
       "    </tr>\n",
       "    <tr>\n",
       "      <th>2</th>\n",
       "      <td>3</td>\n",
       "      <td>34</td>\n",
       "      <td>74</td>\n",
       "      <td>89</td>\n",
       "      <td>1</td>\n",
       "      <td>True</td>\n",
       "      <td>0</td>\n",
       "      <td>2.542857</td>\n",
       "      <td>3026</td>\n",
       "    </tr>\n",
       "    <tr>\n",
       "      <th>3</th>\n",
       "      <td>4</td>\n",
       "      <td>25</td>\n",
       "      <td>81</td>\n",
       "      <td>84</td>\n",
       "      <td>1</td>\n",
       "      <td>True</td>\n",
       "      <td>0</td>\n",
       "      <td>3.230769</td>\n",
       "      <td>2100</td>\n",
       "    </tr>\n",
       "    <tr>\n",
       "      <th>4</th>\n",
       "      <td>5</td>\n",
       "      <td>50</td>\n",
       "      <td>70</td>\n",
       "      <td>74</td>\n",
       "      <td>0</td>\n",
       "      <td>True</td>\n",
       "      <td>1</td>\n",
       "      <td>1.450980</td>\n",
       "      <td>3700</td>\n",
       "    </tr>\n",
       "    <tr>\n",
       "      <th>...</th>\n",
       "      <td>...</td>\n",
       "      <td>...</td>\n",
       "      <td>...</td>\n",
       "      <td>...</td>\n",
       "      <td>...</td>\n",
       "      <td>...</td>\n",
       "      <td>...</td>\n",
       "      <td>...</td>\n",
       "      <td>...</td>\n",
       "    </tr>\n",
       "    <tr>\n",
       "      <th>995</th>\n",
       "      <td>996</td>\n",
       "      <td>33</td>\n",
       "      <td>88</td>\n",
       "      <td>82</td>\n",
       "      <td>1</td>\n",
       "      <td>True</td>\n",
       "      <td>0</td>\n",
       "      <td>2.411765</td>\n",
       "      <td>2706</td>\n",
       "    </tr>\n",
       "    <tr>\n",
       "      <th>996</th>\n",
       "      <td>997</td>\n",
       "      <td>33</td>\n",
       "      <td>88</td>\n",
       "      <td>73</td>\n",
       "      <td>1</td>\n",
       "      <td>True</td>\n",
       "      <td>0</td>\n",
       "      <td>2.147059</td>\n",
       "      <td>2409</td>\n",
       "    </tr>\n",
       "    <tr>\n",
       "      <th>997</th>\n",
       "      <td>998</td>\n",
       "      <td>45</td>\n",
       "      <td>74</td>\n",
       "      <td>61</td>\n",
       "      <td>1</td>\n",
       "      <td>False</td>\n",
       "      <td>1</td>\n",
       "      <td>1.326087</td>\n",
       "      <td>2745</td>\n",
       "    </tr>\n",
       "    <tr>\n",
       "      <th>998</th>\n",
       "      <td>999</td>\n",
       "      <td>57</td>\n",
       "      <td>50</td>\n",
       "      <td>52</td>\n",
       "      <td>0</td>\n",
       "      <td>False</td>\n",
       "      <td>1</td>\n",
       "      <td>0.896552</td>\n",
       "      <td>2964</td>\n",
       "    </tr>\n",
       "    <tr>\n",
       "      <th>999</th>\n",
       "      <td>1000</td>\n",
       "      <td>34</td>\n",
       "      <td>80</td>\n",
       "      <td>82</td>\n",
       "      <td>1</td>\n",
       "      <td>True</td>\n",
       "      <td>0</td>\n",
       "      <td>2.342857</td>\n",
       "      <td>2788</td>\n",
       "    </tr>\n",
       "  </tbody>\n",
       "</table>\n",
       "<p>1000 rows × 9 columns</p>\n",
       "</div>"
      ],
      "text/plain": [
       "     Employee_ID  Hours_Worked_Per_Week  Productivity_Score  Well_Being_Score  \\\n",
       "0              1                     29                  75                78   \n",
       "1              2                     45                  49                47   \n",
       "2              3                     34                  74                89   \n",
       "3              4                     25                  81                84   \n",
       "4              5                     50                  70                74   \n",
       "..           ...                    ...                 ...               ...   \n",
       "995          996                     33                  88                82   \n",
       "996          997                     33                  88                73   \n",
       "997          998                     45                  74                61   \n",
       "998          999                     57                  50                52   \n",
       "999         1000                     34                  80                82   \n",
       "\n",
       "     Productive  Employment_Type_Remote  Overwork_Flag  Balance_Ratio  \\\n",
       "0             1                    True              0       2.600000   \n",
       "1             0                   False              1       1.021739   \n",
       "2             1                    True              0       2.542857   \n",
       "3             1                    True              0       3.230769   \n",
       "4             0                    True              1       1.450980   \n",
       "..          ...                     ...            ...            ...   \n",
       "995           1                    True              0       2.411765   \n",
       "996           1                    True              0       2.147059   \n",
       "997           1                   False              1       1.326087   \n",
       "998           0                   False              1       0.896552   \n",
       "999           1                    True              0       2.342857   \n",
       "\n",
       "     Hours_WellBeing_Interaction  \n",
       "0                           2262  \n",
       "1                           2115  \n",
       "2                           3026  \n",
       "3                           2100  \n",
       "4                           3700  \n",
       "..                           ...  \n",
       "995                         2706  \n",
       "996                         2409  \n",
       "997                         2745  \n",
       "998                         2964  \n",
       "999                         2788  \n",
       "\n",
       "[1000 rows x 9 columns]"
      ]
     },
     "execution_count": 54,
     "metadata": {},
     "output_type": "execute_result"
    }
   ],
   "source": [
    "df[\"Productive\"] = (df[\"Productivity_Score\"] > 70).astype(int)\n",
    "df = pd.get_dummies(df, columns=[\"Employment_Type\"], drop_first=True)\n",
    "df[\"Overwork_Flag\"] = (df[\"Hours_Worked_Per_Week\"] > 40).astype(int)\n",
    "df[\"Balance_Ratio\"] = df[\"Well_Being_Score\"] / (df[\"Hours_Worked_Per_Week\"] + 1) \n",
    "df[\"Hours_WellBeing_Interaction\"] = df[\"Hours_Worked_Per_Week\"] * df[\"Well_Being_Score\"]\n",
    "df"
   ]
  },
  {
   "cell_type": "code",
   "execution_count": 55,
   "id": "03140a6c",
   "metadata": {},
   "outputs": [
    {
     "name": "stdout",
     "output_type": "stream",
     "text": [
      "Decision Tree Accuracy: 0.6666666666666666\n"
     ]
    },
    {
     "data": {
      "image/png": "[encoded data removed]",
      "text/plain": [
       "<Figure size 1000x600 with 1 Axes>"
      ]
     },
     "metadata": {},
     "output_type": "display_data"
    },
    {
     "name": "stdout",
     "output_type": "stream",
     "text": [
      "Feature Importances:\n",
      " Employment_Type_Remote         0.827740\n",
      "Hours_WellBeing_Interaction    0.091900\n",
      "Balance_Ratio                  0.080361\n",
      "Hours_Worked_Per_Week          0.000000\n",
      "Well_Being_Score               0.000000\n",
      "Overwork_Flag                  0.000000\n",
      "dtype: float64\n",
      "\n",
      "Tree depth: 3\n",
      "Number of leaves: 6\n"
     ]
    }
   ],
   "source": [
    "X = df.drop([\"Employee_ID\", \"Productivity_Score\", \"Productive\"], axis=1)\n",
    "y = df[\"Productive\"]\n",
    "\n",
    "X_train, X_test, y_train, y_test = train_test_split(X, y, test_size=0.3, random_state=42,stratify=y)\n",
    "\n",
    "clf = DecisionTreeClassifier(max_depth=3, random_state=42)\n",
    "clf.fit(X_train, y_train)\n",
    "\n",
    "print(\"Decision Tree Accuracy:\", clf.score(X_test, y_test))\n",
    "\n",
    "plt.figure(figsize=(10,6))\n",
    "plot_tree(clf, filled=True, feature_names=X.columns, class_names=[\"Unproductive\",\"Productive\"])\n",
    "plt.show()\n",
    "\n",
    "feature_importance = pd.Series(clf.feature_importances_, index=X.columns)\n",
    "print(\"Feature Importances:\\n\", feature_importance.sort_values(ascending=False))\n",
    "\n",
    "print(\"\\nTree depth:\", clf.get_depth())\n",
    "print(\"Number of leaves:\", clf.get_n_leaves())"
   ]
  },
  {
   "cell_type": "code",
   "execution_count": 56,
   "id": "59c6ca56",
   "metadata": {},
   "outputs": [
    {
     "name": "stdout",
     "output_type": "stream",
     "text": [
      "Cross-Validation Accuracy: 0.558\n"
     ]
    }
   ],
   "source": [
    "from sklearn.model_selection import StratifiedKFold, cross_val_score\n",
    "from sklearn.tree import DecisionTreeClassifier\n",
    "\n",
    "X = df.drop([\"Employee_ID\",\"Productive\",\"Productivity_Score\"], axis=1)\n",
    "y = df[\"Productive\"]\n",
    "\n",
    "dt = DecisionTreeClassifier(random_state=42)\n",
    "\n",
    "cv = StratifiedKFold(n_splits=5, shuffle=True, random_state=42)\n",
    "scores = cross_val_score(dt, X, y, cv=cv, scoring=\"accuracy\")\n",
    "\n",
    "print(\"Cross-Validation Accuracy:\", scores.mean())"
   ]
  },
  {
   "cell_type": "code",
   "execution_count": 57,
   "id": "31abb8f4",
   "metadata": {},
   "outputs": [
    {
     "name": "stdout",
     "output_type": "stream",
     "text": [
      "Best Parameters: {'criterion': 'gini', 'max_depth': 3, 'min_samples_leaf': 10, 'min_samples_split': 2}\n",
      "Best Cross-Validation Accuracy: 0.6580000000000001\n"
     ]
    }
   ],
   "source": [
    "from sklearn.model_selection import GridSearchCV\n",
    "\n",
    "params = {\n",
    "    \"max_depth\": [3, 5, 7, 9, None],\n",
    "    \"min_samples_split\": [2, 5, 10, 20],\n",
    "    \"min_samples_leaf\": [1, 2, 5, 10],\n",
    "    \"criterion\": [\"gini\", \"entropy\"]\n",
    "}\n",
    "\n",
    "grid = GridSearchCV(DecisionTreeClassifier(random_state=42),\n",
    "                    param_grid=params,\n",
    "                    cv=cv,\n",
    "                    scoring=\"accuracy\",\n",
    "                    n_jobs=-1)\n",
    "\n",
    "grid.fit(X, y)\n",
    "\n",
    "print(\"Best Parameters:\", grid.best_params_)\n",
    "print(\"Best Cross-Validation Accuracy:\", grid.best_score_)\n"
   ]
  },
  {
   "cell_type": "code",
   "execution_count": 58,
   "id": "d0980947",
   "metadata": {},
   "outputs": [
    {
     "name": "stdout",
     "output_type": "stream",
     "text": [
      "Employment_Type_Remote         0.851685\n",
      "Balance_Ratio                  0.050694\n",
      "Well_Being_Score               0.040074\n",
      "Hours_Worked_Per_Week          0.029764\n",
      "Hours_WellBeing_Interaction    0.027784\n",
      "Overwork_Flag                  0.000000\n",
      "dtype: float64\n"
     ]
    }
   ],
   "source": [
    "best_model = grid.best_estimator_\n",
    "importances = pd.Series(best_model.feature_importances_, index=X.columns)\n",
    "print(importances.sort_values(ascending=False))\n"
   ]
  }
 ],
 "metadata": {
  "kernelspec": {
   "display_name": "Python 3",
   "language": "python",
   "name": "python3"
  },
  "language_info": {
   "codemirror_mode": {
    "name": "ipython",
    "version": 3
   },
   "file_extension": ".py",
   "mimetype": "text/x-python",
   "name": "python",
   "nbconvert_exporter": "python",
   "pygments_lexer": "ipython3",
   "version": "3.12.6"
  }
 },
 "nbformat": 4,
 "nbformat_minor": 5
}
